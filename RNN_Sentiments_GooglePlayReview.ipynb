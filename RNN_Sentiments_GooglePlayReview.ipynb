{
 "cells": [
  {
   "cell_type": "markdown",
   "metadata": {},
   "source": [
    "# **Sentiment Analysis of Google Play Store Reviews Using Recurrent Neural Networks**\n",
    "\n",
    "### **Introduction**\n",
    "In this project, we explore sentiment analysis on user reviews from the Google Play Store. Sentiment analysis is a natural language processing (NLP) technique that uses machine learning to determine the tone of a text. By training a Recurrent Neural Network (RNN) on review data, we aim to classify each review as **positive**, **neutral**, or **negative**. This information can help app developers and marketers understand user sentiment at scale, allowing for data-driven improvements and strategic decisions.\n",
    "\n",
    "### **Objective**\n",
    "Our primary goal is to build a robust model that accurately classifies user sentiment, transforming unstructured textual data into structured insights. By leveraging an RNN, a deep learning architecture well-suited for sequential data, we can capture the nuanced patterns in text reviews that indicate sentiment.\n",
    "\n",
    "### **Project Workflow**\n",
    "The notebook is structured into the following key steps:\n",
    "1. **Data Loading and Exploration**: Load the dataset and perform initial exploration to understand its structure and quality.\n",
    "2. **Data Preprocessing**: Clean and preprocess the text data, preparing it for model training through tokenization and padding.\n",
    "3. **Model Building**: Define and compile a Recurrent Neural Network (RNN) model using TensorFlow and Keras.\n",
    "4. **Model Training**: Train the model on the labeled review data and monitor performance metrics.\n",
    "5. **Evaluation**: Evaluate the trained model on test data, and visualize the results with performance metrics.\n",
    "6. **Prediction**: Use the model to predict sentiment on new or unseen review text."
   ]
  },
  {
   "cell_type": "markdown",
   "metadata": {},
   "source": [
    "# Import dependencies"
   ]
  },
  {
   "cell_type": "code",
   "execution_count": 1,
   "metadata": {},
   "outputs": [],
   "source": [
    "import tensorflow as tf\n",
    "import matplotlib.pyplot as plt\n",
    "import numpy as np\n",
    "import pandas as pd\n",
    "from keras.preprocessing.text import Tokenizer\n",
    "from sklearn.model_selection import train_test_split\n",
    "from pathlib import Path\n",
    "import pickle"
   ]
  },
  {
   "cell_type": "markdown",
   "metadata": {},
   "source": [
    "# Data Processing"
   ]
  },
  {
   "cell_type": "code",
   "execution_count": 2,
   "metadata": {},
   "outputs": [],
   "source": [
    "# Read the dataset from csv file using pandas\n",
    "df = pd.read_csv('googleplaystore_user_reviews.csv', sep=\",\", header=0)"
   ]
  },
  {
   "cell_type": "markdown",
   "metadata": {},
   "source": [
    "In total, there is 64295 entries, but only 37427 has reviews and 37432 has non-null sentiment (labels)."
   ]
  },
  {
   "cell_type": "code",
   "execution_count": 3,
   "metadata": {},
   "outputs": [
    {
     "name": "stdout",
     "output_type": "stream",
     "text": [
      "<class 'pandas.core.frame.DataFrame'>\n",
      "RangeIndex: 64295 entries, 0 to 64294\n",
      "Data columns (total 5 columns):\n",
      " #   Column                  Non-Null Count  Dtype  \n",
      "---  ------                  --------------  -----  \n",
      " 0   App                     64295 non-null  object \n",
      " 1   Translated_Review       37427 non-null  object \n",
      " 2   Sentiment               37432 non-null  object \n",
      " 3   Sentiment_Polarity      37432 non-null  float64\n",
      " 4   Sentiment_Subjectivity  37432 non-null  float64\n",
      "dtypes: float64(2), object(3)\n",
      "memory usage: 2.5+ MB\n"
     ]
    },
    {
     "data": {
      "text/html": [
       "<div>\n",
       "<style scoped>\n",
       "    .dataframe tbody tr th:only-of-type {\n",
       "        vertical-align: middle;\n",
       "    }\n",
       "\n",
       "    .dataframe tbody tr th {\n",
       "        vertical-align: top;\n",
       "    }\n",
       "\n",
       "    .dataframe thead th {\n",
       "        text-align: right;\n",
       "    }\n",
       "</style>\n",
       "<table border=\"1\" class=\"dataframe\">\n",
       "  <thead>\n",
       "    <tr style=\"text-align: right;\">\n",
       "      <th></th>\n",
       "      <th>App</th>\n",
       "      <th>Translated_Review</th>\n",
       "      <th>Sentiment</th>\n",
       "      <th>Sentiment_Polarity</th>\n",
       "      <th>Sentiment_Subjectivity</th>\n",
       "    </tr>\n",
       "  </thead>\n",
       "  <tbody>\n",
       "    <tr>\n",
       "      <th>0</th>\n",
       "      <td>10 Best Foods for You</td>\n",
       "      <td>I like eat delicious food. That's I'm cooking ...</td>\n",
       "      <td>Positive</td>\n",
       "      <td>1.00</td>\n",
       "      <td>0.533333</td>\n",
       "    </tr>\n",
       "    <tr>\n",
       "      <th>1</th>\n",
       "      <td>10 Best Foods for You</td>\n",
       "      <td>This help eating healthy exercise regular basis</td>\n",
       "      <td>Positive</td>\n",
       "      <td>0.25</td>\n",
       "      <td>0.288462</td>\n",
       "    </tr>\n",
       "    <tr>\n",
       "      <th>2</th>\n",
       "      <td>10 Best Foods for You</td>\n",
       "      <td>NaN</td>\n",
       "      <td>NaN</td>\n",
       "      <td>NaN</td>\n",
       "      <td>NaN</td>\n",
       "    </tr>\n",
       "    <tr>\n",
       "      <th>3</th>\n",
       "      <td>10 Best Foods for You</td>\n",
       "      <td>Works great especially going grocery store</td>\n",
       "      <td>Positive</td>\n",
       "      <td>0.40</td>\n",
       "      <td>0.875000</td>\n",
       "    </tr>\n",
       "    <tr>\n",
       "      <th>4</th>\n",
       "      <td>10 Best Foods for You</td>\n",
       "      <td>Best idea us</td>\n",
       "      <td>Positive</td>\n",
       "      <td>1.00</td>\n",
       "      <td>0.300000</td>\n",
       "    </tr>\n",
       "  </tbody>\n",
       "</table>\n",
       "</div>"
      ],
      "text/plain": [
       "                     App                                  Translated_Review  \\\n",
       "0  10 Best Foods for You  I like eat delicious food. That's I'm cooking ...   \n",
       "1  10 Best Foods for You    This help eating healthy exercise regular basis   \n",
       "2  10 Best Foods for You                                                NaN   \n",
       "3  10 Best Foods for You         Works great especially going grocery store   \n",
       "4  10 Best Foods for You                                       Best idea us   \n",
       "\n",
       "  Sentiment  Sentiment_Polarity  Sentiment_Subjectivity  \n",
       "0  Positive                1.00                0.533333  \n",
       "1  Positive                0.25                0.288462  \n",
       "2       NaN                 NaN                     NaN  \n",
       "3  Positive                0.40                0.875000  \n",
       "4  Positive                1.00                0.300000  "
      ]
     },
     "execution_count": 3,
     "metadata": {},
     "output_type": "execute_result"
    }
   ],
   "source": [
    "# Print information about dataset\n",
    "df.info()\n",
    "df.head()"
   ]
  },
  {
   "cell_type": "code",
   "execution_count": 4,
   "metadata": {},
   "outputs": [],
   "source": [
    "# Eliminate the NaN values\n",
    "df = df.dropna()"
   ]
  },
  {
   "cell_type": "code",
   "execution_count": 5,
   "metadata": {},
   "outputs": [
    {
     "name": "stdout",
     "output_type": "stream",
     "text": [
      "<class 'pandas.core.frame.DataFrame'>\n",
      "Index: 37427 entries, 0 to 64230\n",
      "Data columns (total 5 columns):\n",
      " #   Column                  Non-Null Count  Dtype  \n",
      "---  ------                  --------------  -----  \n",
      " 0   App                     37427 non-null  object \n",
      " 1   Translated_Review       37427 non-null  object \n",
      " 2   Sentiment               37427 non-null  object \n",
      " 3   Sentiment_Polarity      37427 non-null  float64\n",
      " 4   Sentiment_Subjectivity  37427 non-null  float64\n",
      "dtypes: float64(2), object(3)\n",
      "memory usage: 1.7+ MB\n"
     ]
    },
    {
     "data": {
      "text/html": [
       "<div>\n",
       "<style scoped>\n",
       "    .dataframe tbody tr th:only-of-type {\n",
       "        vertical-align: middle;\n",
       "    }\n",
       "\n",
       "    .dataframe tbody tr th {\n",
       "        vertical-align: top;\n",
       "    }\n",
       "\n",
       "    .dataframe thead th {\n",
       "        text-align: right;\n",
       "    }\n",
       "</style>\n",
       "<table border=\"1\" class=\"dataframe\">\n",
       "  <thead>\n",
       "    <tr style=\"text-align: right;\">\n",
       "      <th></th>\n",
       "      <th>App</th>\n",
       "      <th>Translated_Review</th>\n",
       "      <th>Sentiment</th>\n",
       "      <th>Sentiment_Polarity</th>\n",
       "      <th>Sentiment_Subjectivity</th>\n",
       "    </tr>\n",
       "  </thead>\n",
       "  <tbody>\n",
       "    <tr>\n",
       "      <th>0</th>\n",
       "      <td>10 Best Foods for You</td>\n",
       "      <td>I like eat delicious food. That's I'm cooking ...</td>\n",
       "      <td>Positive</td>\n",
       "      <td>1.00</td>\n",
       "      <td>0.533333</td>\n",
       "    </tr>\n",
       "    <tr>\n",
       "      <th>1</th>\n",
       "      <td>10 Best Foods for You</td>\n",
       "      <td>This help eating healthy exercise regular basis</td>\n",
       "      <td>Positive</td>\n",
       "      <td>0.25</td>\n",
       "      <td>0.288462</td>\n",
       "    </tr>\n",
       "    <tr>\n",
       "      <th>3</th>\n",
       "      <td>10 Best Foods for You</td>\n",
       "      <td>Works great especially going grocery store</td>\n",
       "      <td>Positive</td>\n",
       "      <td>0.40</td>\n",
       "      <td>0.875000</td>\n",
       "    </tr>\n",
       "    <tr>\n",
       "      <th>4</th>\n",
       "      <td>10 Best Foods for You</td>\n",
       "      <td>Best idea us</td>\n",
       "      <td>Positive</td>\n",
       "      <td>1.00</td>\n",
       "      <td>0.300000</td>\n",
       "    </tr>\n",
       "    <tr>\n",
       "      <th>5</th>\n",
       "      <td>10 Best Foods for You</td>\n",
       "      <td>Best way</td>\n",
       "      <td>Positive</td>\n",
       "      <td>1.00</td>\n",
       "      <td>0.300000</td>\n",
       "    </tr>\n",
       "  </tbody>\n",
       "</table>\n",
       "</div>"
      ],
      "text/plain": [
       "                     App                                  Translated_Review  \\\n",
       "0  10 Best Foods for You  I like eat delicious food. That's I'm cooking ...   \n",
       "1  10 Best Foods for You    This help eating healthy exercise regular basis   \n",
       "3  10 Best Foods for You         Works great especially going grocery store   \n",
       "4  10 Best Foods for You                                       Best idea us   \n",
       "5  10 Best Foods for You                                           Best way   \n",
       "\n",
       "  Sentiment  Sentiment_Polarity  Sentiment_Subjectivity  \n",
       "0  Positive                1.00                0.533333  \n",
       "1  Positive                0.25                0.288462  \n",
       "3  Positive                0.40                0.875000  \n",
       "4  Positive                1.00                0.300000  \n",
       "5  Positive                1.00                0.300000  "
      ]
     },
     "execution_count": 5,
     "metadata": {},
     "output_type": "execute_result"
    }
   ],
   "source": [
    "# Check that the null values were eliminated\n",
    "df.info()\n",
    "df.head()"
   ]
  },
  {
   "cell_type": "markdown",
   "metadata": {},
   "source": [
    "Get only the `translated_review` and `sentiment` columns, which are the review and sentiment that we want to predict"
   ]
  },
  {
   "cell_type": "code",
   "execution_count": 6,
   "metadata": {},
   "outputs": [
    {
     "data": {
      "text/html": [
       "<div>\n",
       "<style scoped>\n",
       "    .dataframe tbody tr th:only-of-type {\n",
       "        vertical-align: middle;\n",
       "    }\n",
       "\n",
       "    .dataframe tbody tr th {\n",
       "        vertical-align: top;\n",
       "    }\n",
       "\n",
       "    .dataframe thead th {\n",
       "        text-align: right;\n",
       "    }\n",
       "</style>\n",
       "<table border=\"1\" class=\"dataframe\">\n",
       "  <thead>\n",
       "    <tr style=\"text-align: right;\">\n",
       "      <th></th>\n",
       "      <th>Translated_Review</th>\n",
       "      <th>Sentiment</th>\n",
       "    </tr>\n",
       "  </thead>\n",
       "  <tbody>\n",
       "    <tr>\n",
       "      <th>0</th>\n",
       "      <td>I like eat delicious food. That's I'm cooking ...</td>\n",
       "      <td>Positive</td>\n",
       "    </tr>\n",
       "    <tr>\n",
       "      <th>1</th>\n",
       "      <td>This help eating healthy exercise regular basis</td>\n",
       "      <td>Positive</td>\n",
       "    </tr>\n",
       "    <tr>\n",
       "      <th>3</th>\n",
       "      <td>Works great especially going grocery store</td>\n",
       "      <td>Positive</td>\n",
       "    </tr>\n",
       "    <tr>\n",
       "      <th>4</th>\n",
       "      <td>Best idea us</td>\n",
       "      <td>Positive</td>\n",
       "    </tr>\n",
       "    <tr>\n",
       "      <th>5</th>\n",
       "      <td>Best way</td>\n",
       "      <td>Positive</td>\n",
       "    </tr>\n",
       "  </tbody>\n",
       "</table>\n",
       "</div>"
      ],
      "text/plain": [
       "                                   Translated_Review Sentiment\n",
       "0  I like eat delicious food. That's I'm cooking ...  Positive\n",
       "1    This help eating healthy exercise regular basis  Positive\n",
       "3         Works great especially going grocery store  Positive\n",
       "4                                       Best idea us  Positive\n",
       "5                                           Best way  Positive"
      ]
     },
     "execution_count": 6,
     "metadata": {},
     "output_type": "execute_result"
    }
   ],
   "source": [
    "df = df[['Translated_Review','Sentiment']]\n",
    "df.head()"
   ]
  },
  {
   "cell_type": "markdown",
   "metadata": {},
   "source": [
    "Check out the distribution of label data.\n",
    "There is much more examples of Positive reviews rather tan Negative or Neutral"
   ]
  },
  {
   "cell_type": "code",
   "execution_count": 7,
   "metadata": {},
   "outputs": [
    {
     "name": "stdout",
     "output_type": "stream",
     "text": [
      "Sentiment\n",
      "Positive    23998\n",
      "Negative     8271\n",
      "Neutral      5158\n",
      "Name: count, dtype: int64\n"
     ]
    },
    {
     "data": {
      "text/plain": [
       "<AxesSubplot:xlabel='Sentiment'>"
      ]
     },
     "execution_count": 7,
     "metadata": {},
     "output_type": "execute_result"
    },
    {
     "data": {
      "image/png": "[encoded data removed]",
      "text/plain": [
       "<Figure size 640x480 with 1 Axes>"
      ]
     },
     "metadata": {},
     "output_type": "display_data"
    }
   ],
   "source": [
    "print(df['Sentiment'].value_counts())\n",
    "df['Sentiment'].value_counts().plot.bar()"
   ]
  },
  {
   "cell_type": "markdown",
   "metadata": {},
   "source": [
    "We are going to predict whether the review has any of the 3 likely labels:\n",
    "- Positive\n",
    "- Negative\n",
    "- Neutral\n",
    "\n",
    "Thus, the first step is encoding. We are going to encode output labels using **hot-encoding**"
   ]
  },
  {
   "cell_type": "code",
   "execution_count": 8,
   "metadata": {},
   "outputs": [
    {
     "name": "stdout",
     "output_type": "stream",
     "text": [
      "                                   Translated_Review Sentiment  Sentiment_cat\n",
      "0  I like eat delicious food. That's I'm cooking ...  Positive              2\n",
      "1    This help eating healthy exercise regular basis  Positive              2\n",
      "3         Works great especially going grocery store  Positive              2\n",
      "4                                       Best idea us  Positive              2\n",
      "5                                           Best way  Positive              2\n",
      "\n",
      "Categories in order: Index(['Negative', 'Neutral', 'Positive'], dtype='object')\n"
     ]
    }
   ],
   "source": [
    "df[\"Sentiment\"] = df[\"Sentiment\"].astype('category')\n",
    "df[\"Sentiment_cat\"] = df[\"Sentiment\"].cat.codes\n",
    "print(df.head())\n",
    "\n",
    "ordered_categories = df[\"Sentiment\"].cat.categories\n",
    "\n",
    "print(\"\\nCategories in order: \"  + str(ordered_categories))\n",
    "\n",
    "x_raw = df['Translated_Review']\n",
    "y = df['Sentiment_cat']"
   ]
  },
  {
   "cell_type": "markdown",
   "metadata": {},
   "source": [
    "We get the input (x) and output(y) data from the about dataframe"
   ]
  },
  {
   "cell_type": "code",
   "execution_count": 9,
   "metadata": {},
   "outputs": [],
   "source": [
    "# Convert to numpy arrays\n",
    "x_raw = x_raw.to_numpy()\n",
    "y = y.to_numpy()"
   ]
  },
  {
   "cell_type": "markdown",
   "metadata": {},
   "source": [
    "## Tokerization of data"
   ]
  },
  {
   "cell_type": "code",
   "execution_count": 10,
   "metadata": {},
   "outputs": [],
   "source": [
    "VOCABULARY_SIZE = 5000\n",
    "\n",
    "tokenizer = Tokenizer(num_words = VOCABULARY_SIZE)\n",
    "tokenizer.fit_on_texts(x_raw)\n",
    "\n",
    "x_tokenized = tokenizer.texts_to_sequences(x_raw)"
   ]
  },
  {
   "cell_type": "code",
   "execution_count": 11,
   "metadata": {},
   "outputs": [
    {
     "name": "stdout",
     "output_type": "stream",
     "text": [
      "Raw input data:\n",
      "['I like eat delicious food. That\\'s I\\'m cooking food myself, case \"10 Best Foods\" helps lot, also \"Best Before (Shelf Life)\"'\n",
      " 'This help eating healthy exercise regular basis'\n",
      " 'Works great especially going grocery store' 'Best idea us']\n",
      "\n",
      "Tokenized input data:\n",
      "[[1, 5, 807, 3588, 212, 195, 20, 1514, 212, 1885, 983, 197, 37, 883, 367, 81, 25, 37, 512, 4936, 273], [7, 110, 1417, 1373, 1075, 1059, 2219], [90, 9, 408, 134, 1923, 333], [37, 439, 199]]\n",
      "\n",
      "ConvertedTokenized input data:\n",
      "[\"i like eat delicious food that's i'm cooking food myself case 10 best foods helps lot also best before shelf life\", 'this help eating healthy exercise regular basis', 'works great especially going grocery store', 'best idea us']\n"
     ]
    }
   ],
   "source": [
    "print(\"Raw input data:\")\n",
    "print(x_raw[0:4])\n",
    "\n",
    "print(\"\\nTokenized input data:\")\n",
    "print(x_tokenized[0:4])\n",
    "\n",
    "print(\"\\nConvertedTokenized input data:\")\n",
    "print(tokenizer.sequences_to_texts(x_tokenized[0:4]))"
   ]
  },
  {
   "cell_type": "markdown",
   "metadata": {},
   "source": [
    "# Padding\n",
    "Our model will be fed always by an input with a fixed number of values. Thus, we need to add \"null\" words to the small sequences. It is known as padding."
   ]
  },
  {
   "cell_type": "code",
   "execution_count": 12,
   "metadata": {},
   "outputs": [
    {
     "name": "stdout",
     "output_type": "stream",
     "text": [
      "Maximum sequence: 294, index: 15653\n",
      "[\"bright night mode please how many requests do y'all need before you implement a damn dark theme also i can't help feel like lacking lot features make desktop version wonderful for instance i mean call crazy i consider white bar impossible to see in grey font pleasing it's actually rather it's horrible please explain chrome which home thus essentially useless unless plan typing yet comes single personal object carried virtually everyday everyone everywhere an object become who what are modern an object us sense necessity roughly cannot live without it when we're considering single aspect modern smartphone us content half visually minimalist cookie interface with minimal effort why it's lazy boring ugly it's actually not weird ass place screen i'll give y'all that it's and kinda users unique creative individuals i back interface dumb force people method product experience killer forced along everyone else world single people we're different us with different likes different views preferences want product want experience feel there even light dark themes available which would simple solution or better yet google allow users express creating themes upload others apply similar desktop themes this literally used entire phone everything else that isn't google app least offers dark theme sake like difficult hell used grey whatever was i say probably effort making damn white would required simply theme option small settings menu users select two bubbles light dark plenty users begging simple options forced changes optional choices quite time now now always m o google company used user resource friendly apps simple easy ui felt made sense then y'all started getting big so fire currently charge user using worst possible interface aspects buddy dude google poorly designed unnecessarily bright so overly simple that its somehow complicated i iphone but i'm android interface\"]\n"
     ]
    }
   ],
   "source": [
    "# This function calculates the maximum number of tokens of a sequence in the dataset\n",
    "def get_max_count_sequence(sequences):\n",
    "        max_count = 0\n",
    "        max_seq = []\n",
    "        max_index = 0\n",
    "        index = 0\n",
    "        for seq in sequences:\n",
    "                if len(seq) > max_count:\n",
    "                        max_count = len(seq)\n",
    "                        max_seq = seq\n",
    "                        max_index = index\n",
    "                index = index + 1\n",
    "        return max_count, max_seq, max_index\n",
    "\n",
    "max_len, seq, index = get_max_count_sequence(x_tokenized)\n",
    "print(\"Maximum sequence: \" + str(max_len) + \", index: \" + str(index))\n",
    "print(tokenizer.sequences_to_texts([seq]))"
   ]
  },
  {
   "cell_type": "code",
   "execution_count": 13,
   "metadata": {},
   "outputs": [],
   "source": [
    "max_len = 250\n",
    "x = tf.keras.preprocessing.sequence.pad_sequences(x_tokenized, maxlen=max_len)"
   ]
  },
  {
   "cell_type": "markdown",
   "metadata": {},
   "source": [
    "# Split into training and test sets"
   ]
  },
  {
   "cell_type": "code",
   "execution_count": 14,
   "metadata": {},
   "outputs": [],
   "source": [
    "x_train, x_test, y_train, y_test = train_test_split(x, y, test_size=0.20, random_state=42)"
   ]
  },
  {
   "cell_type": "markdown",
   "metadata": {},
   "source": [
    "# RNN model definition"
   ]
  },
  {
   "cell_type": "code",
   "execution_count": 15,
   "metadata": {},
   "outputs": [
    {
     "name": "stdout",
     "output_type": "stream",
     "text": [
      "Model: \"sequential\"\n",
      "_________________________________________________________________\n",
      " Layer (type)                Output Shape              Param #   \n",
      "=================================================================\n",
      " embedding (Embedding)       (None, 250, 128)          640000    \n",
      "                                                                 \n",
      " lstm (LSTM)                 (None, 256)               394240    \n",
      "                                                                 \n",
      " dense (Dense)               (None, 128)               32896     \n",
      "                                                                 \n",
      " dropout (Dropout)           (None, 128)               0         \n",
      "                                                                 \n",
      " dense_1 (Dense)             (None, 64)                8256      \n",
      "                                                                 \n",
      " dropout_1 (Dropout)         (None, 64)                0         \n",
      "                                                                 \n",
      " dense_2 (Dense)             (None, 32)                2080      \n",
      "                                                                 \n",
      " dense_3 (Dense)             (None, 3)                 99        \n",
      "                                                                 \n",
      "=================================================================\n",
      "Total params: 1,077,571\n",
      "Trainable params: 1,077,571\n",
      "Non-trainable params: 0\n",
      "_________________________________________________________________\n"
     ]
    }
   ],
   "source": [
    "model = tf.keras.Sequential()\n",
    "model.add(tf.keras.layers.Embedding(VOCABULARY_SIZE,\n",
    "                                    128,\n",
    "                                    input_shape=(x_train.shape[1],)))\n",
    "\n",
    "model.add(tf.keras.layers.LSTM(units=256, activation='tanh'))\n",
    "\n",
    "model.add(tf.keras.layers.Dense(units=128, activation='relu'))\n",
    "model.add(tf.keras.layers.Dropout(0.3))\n",
    "model.add(tf.keras.layers.Dense(units=64, activation='relu'))\n",
    "model.add(tf.keras.layers.Dropout(0.2))\n",
    "model.add(tf.keras.layers.Dense(units=32, activation='relu'))\n",
    "\n",
    "# The output will be 3 labels\n",
    "model.add(tf.keras.layers.Dense(units=3,\n",
    "                                activation='softmax'))\n",
    "\n",
    "model.compile(optimizer='adam',\n",
    "                loss='sparse_categorical_crossentropy',\n",
    "                metrics=['sparse_categorical_accuracy'])\n",
    "\n",
    "model.summary()"
   ]
  },
  {
   "cell_type": "code",
   "execution_count": 16,
   "metadata": {},
   "outputs": [],
   "source": [
    "all_histories = []"
   ]
  },
  {
   "cell_type": "code",
   "execution_count": 17,
   "metadata": {},
   "outputs": [
    {
     "name": "stdout",
     "output_type": "stream",
     "text": [
      "Epoch 1/3\n",
      "117/117 [==============================] - 19s 96ms/step - loss: 0.6695 - sparse_categorical_accuracy: 0.7199 - val_loss: 0.3379 - val_sparse_categorical_accuracy: 0.8680\n",
      "Epoch 2/3\n",
      "117/117 [==============================] - 11s 91ms/step - loss: 0.2366 - sparse_categorical_accuracy: 0.9211 - val_loss: 0.2613 - val_sparse_categorical_accuracy: 0.9145\n",
      "Epoch 3/3\n",
      "117/117 [==============================] - 11s 91ms/step - loss: 0.1555 - sparse_categorical_accuracy: 0.9522 - val_loss: 0.2490 - val_sparse_categorical_accuracy: 0.9249\n"
     ]
    }
   ],
   "source": [
    "history = model.fit(x_train, y_train, epochs=3, batch_size=256, validation_data=(x_test, y_test))\n",
    "all_histories.append(history.history)"
   ]
  },
  {
   "cell_type": "code",
   "execution_count": 18,
   "metadata": {},
   "outputs": [
    {
     "name": "stdout",
     "output_type": "stream",
     "text": [
      "Epoch 1/5\n",
      "936/936 [==============================] - 34s 36ms/step - loss: 0.2099 - sparse_categorical_accuracy: 0.9328 - val_loss: 0.2124 - val_sparse_categorical_accuracy: 0.9299\n",
      "Epoch 2/5\n",
      "936/936 [==============================] - 35s 38ms/step - loss: 0.1314 - sparse_categorical_accuracy: 0.9591 - val_loss: 0.2192 - val_sparse_categorical_accuracy: 0.9365\n",
      "Epoch 3/5\n",
      "936/936 [==============================] - 36s 38ms/step - loss: 0.0910 - sparse_categorical_accuracy: 0.9730 - val_loss: 0.2423 - val_sparse_categorical_accuracy: 0.9364\n",
      "Epoch 4/5\n",
      "936/936 [==============================] - 35s 38ms/step - loss: 0.0678 - sparse_categorical_accuracy: 0.9794 - val_loss: 0.2501 - val_sparse_categorical_accuracy: 0.9386\n",
      "Epoch 5/5\n",
      "936/936 [==============================] - 38s 40ms/step - loss: 0.0533 - sparse_categorical_accuracy: 0.9837 - val_loss: 0.2886 - val_sparse_categorical_accuracy: 0.9337\n"
     ]
    }
   ],
   "source": [
    "history = model.fit(x_train, y_train, epochs=5, batch_size=32, validation_data=(x_test, y_test))\n",
    "all_histories.append(history.history)"
   ]
  },
  {
   "cell_type": "code",
   "execution_count": 19,
   "metadata": {},
   "outputs": [
    {
     "name": "stdout",
     "output_type": "stream",
     "text": [
      "Epoch 1/3\n",
      "117/117 [==============================] - 12s 100ms/step - loss: 0.0270 - sparse_categorical_accuracy: 0.9920 - val_loss: 0.3150 - val_sparse_categorical_accuracy: 0.9388\n",
      "Epoch 2/3\n",
      "117/117 [==============================] - 12s 104ms/step - loss: 0.0158 - sparse_categorical_accuracy: 0.9958 - val_loss: 0.3677 - val_sparse_categorical_accuracy: 0.9392\n",
      "Epoch 3/3\n",
      "117/117 [==============================] - 12s 104ms/step - loss: 0.0116 - sparse_categorical_accuracy: 0.9970 - val_loss: 0.3996 - val_sparse_categorical_accuracy: 0.9383\n"
     ]
    }
   ],
   "source": [
    "history = model.fit(x_train, y_train, epochs=3, batch_size=256, validation_data=(x_test, y_test))\n",
    "all_histories.append(history.history)"
   ]
  },
  {
   "cell_type": "code",
   "execution_count": 20,
   "metadata": {},
   "outputs": [],
   "source": [
    "def combine_histories(histories, metric='loss'):\n",
    "    combined = []\n",
    "    for hist in histories:\n",
    "        combined.extend(hist[metric])  # Append each fit call's history for this metric\n",
    "    return combined"
   ]
  },
  {
   "cell_type": "code",
   "execution_count": 21,
   "metadata": {},
   "outputs": [
    {
     "data": {
      "image/png": "[encoded data removed]",
      "text/plain": [
       "<Figure size 1000x600 with 1 Axes>"
      ]
     },
     "metadata": {},
     "output_type": "display_data"
    },
    {
     "data": {
      "image/png": "[encoded data removed]",
      "text/plain": [
       "<Figure size 1000x600 with 1 Axes>"
      ]
     },
     "metadata": {},
     "output_type": "display_data"
    }
   ],
   "source": [
    "# Combine metrics from all history objects\n",
    "train_loss = combine_histories(all_histories, metric='loss')\n",
    "val_loss = combine_histories(all_histories, metric='val_loss')\n",
    "train_acc = combine_histories(all_histories, metric='sparse_categorical_accuracy')\n",
    "val_acc = combine_histories(all_histories, metric='val_sparse_categorical_accuracy')\n",
    "\n",
    "# Plot training and validation loss\n",
    "plt.figure(figsize=(10, 6))\n",
    "plt.plot(train_loss, label='Training Loss')\n",
    "plt.plot(val_loss, label='Validation Loss')\n",
    "plt.xlabel('Epoch')\n",
    "plt.ylabel('Loss')\n",
    "plt.legend()\n",
    "plt.title('Training and Validation Loss over Multiple fit() Calls')\n",
    "plt.show()\n",
    "\n",
    "# Plot training and validation accuracy\n",
    "plt.figure(figsize=(10, 6))\n",
    "plt.plot(train_acc, label='Training accuracy')\n",
    "plt.plot(val_acc, label='Validation accuracy')\n",
    "plt.xlabel('Epoch')\n",
    "plt.ylabel('Accuracy')\n",
    "plt.legend()\n",
    "plt.title('Training and Validation accuracy over Multiple fit() Calls')\n",
    "plt.show()"
   ]
  },
  {
   "cell_type": "code",
   "execution_count": 22,
   "metadata": {},
   "outputs": [
    {
     "name": "stdout",
     "output_type": "stream",
     "text": [
      "234/234 [==============================] - 4s 17ms/step - loss: 0.3996 - sparse_categorical_accuracy: 0.9383\n"
     ]
    }
   ],
   "source": [
    "test_loss, test_accuracy = model.evaluate(x_test, y_test)"
   ]
  },
  {
   "cell_type": "markdown",
   "metadata": {},
   "source": [
    "# Save our model for future usage"
   ]
  },
  {
   "cell_type": "markdown",
   "metadata": {},
   "source": [
    "## Set model name, version and path to save it"
   ]
  },
  {
   "cell_type": "code",
   "execution_count": 23,
   "metadata": {},
   "outputs": [
    {
     "name": "stderr",
     "output_type": "stream",
     "text": [
      "WARNING:absl:Found untraced functions such as lstm_cell_layer_call_fn, lstm_cell_layer_call_and_return_conditional_losses while saving (showing 2 of 2). These functions will not be directly callable after loading.\n"
     ]
    },
    {
     "name": "stdout",
     "output_type": "stream",
     "text": [
      "INFO:tensorflow:Assets written to: GooglePlayReviewRNN\\001\\assets\n"
     ]
    },
    {
     "name": "stderr",
     "output_type": "stream",
     "text": [
      "INFO:tensorflow:Assets written to: GooglePlayReviewRNN\\001\\assets\n",
      "WARNING:absl:<keras.layers.recurrent.LSTMCell object at 0x000002C04EA2C070> has the same name 'LSTMCell' as a built-in Keras object. Consider renaming <class 'keras.layers.recurrent.LSTMCell'> to avoid naming conflicts when loading with `tf.keras.models.load_model`. If renaming is not possible, pass the object in the `custom_objects` parameter of the load function.\n"
     ]
    }
   ],
   "source": [
    "model_name = \"GooglePlayReviewRNN\"\n",
    "model_version = \"001\"\n",
    "model_path = Path(model_name) / model_version\n",
    "model.save(model_path, save_format=\"tf\")"
   ]
  },
  {
   "cell_type": "markdown",
   "metadata": {},
   "source": [
    "## Save the \"tokenizer\"\n",
    "It is needed to be able to convert future review text into a proper input of our model"
   ]
  },
  {
   "cell_type": "code",
   "execution_count": 24,
   "metadata": {},
   "outputs": [],
   "source": [
    "tokenizer_path = model_path / 'tokenizer.pickle'\n",
    "ordered_categories_path = model_path / 'ordered_categories.pickle'\n",
    "\n",
    "# saving tokenizer\n",
    "with open(tokenizer_path, 'wb') as handle:\n",
    "    pickle.dump(tokenizer, handle, protocol=pickle.HIGHEST_PROTOCOL)"
   ]
  },
  {
   "cell_type": "markdown",
   "metadata": {},
   "source": [
    "## Save the categories encoded into a json file"
   ]
  },
  {
   "cell_type": "code",
   "execution_count": 26,
   "metadata": {},
   "outputs": [
    {
     "name": "stdout",
     "output_type": "stream",
     "text": [
      "{'Negative': 0, 'Neutral': 1, 'Positive': 2}\n"
     ]
    }
   ],
   "source": [
    "import json\n",
    "\n",
    "json_labels_path = Path(model_path) / 'labels_GooglePlayReviewRNN.json'\n",
    "\n",
    "ordered_categories_dict = {}\n",
    "for cat,i in enumerate(ordered_categories):\n",
    "        ordered_categories_dict[i] = cat\n",
    "print(ordered_categories_dict)\n",
    "\n",
    "with open(json_labels_path, \"w\") as write_file:\n",
    "    json.dump(ordered_categories_dict, write_file, indent=4)"
   ]
  },
  {
   "cell_type": "markdown",
   "metadata": {},
   "source": [
    "## Save trained model stats in a json file\n",
    "It is quite useful to compare models between experiments"
   ]
  },
  {
   "cell_type": "code",
   "execution_count": 30,
   "metadata": {},
   "outputs": [],
   "source": [
    "import datetime;\n",
    "\n",
    "# Create a datetime object and Convert the datetime object to a string in a specific format \n",
    "date_timestamp = datetime.datetime.now() \n",
    "date_timestamp_str = date_timestamp.strftime(\"%Y-%m-%d %H:%M:%S\") \n",
    "\n",
    "stats_data = [{\n",
    "        \"compiled_date\": date_timestamp_str,\n",
    "        \"loss\": {\n",
    "                \"train_loss\": train_loss[-1],\n",
    "                \"test_loss\": test_loss,\n",
    "        },\n",
    "        \"accuracy\": {\n",
    "                \"train_accuracy\": train_acc[-1],\n",
    "                \"test_accuracy\": test_accuracy,\n",
    "        }\n",
    "}]\n",
    "\n",
    "json_path = Path(model_path) / 'model_stats.json'\n",
    "\n",
    "with open(json_path, \"w\") as write_file:\n",
    "    json.dump(stats_data, write_file, indent=4)"
   ]
  },
  {
   "cell_type": "markdown",
   "metadata": {},
   "source": [
    "# Test out model"
   ]
  },
  {
   "cell_type": "markdown",
   "metadata": {},
   "source": [
    "## Test with any input text (production)\n",
    "You can write in the variable `test_text` the review that you want to checkout."
   ]
  },
  {
   "cell_type": "code",
   "execution_count": 34,
   "metadata": {},
   "outputs": [
    {
     "name": "stdout",
     "output_type": "stream",
     "text": [
      "Tokerized Input: [\"app that is decent but the amount of ads this single app dishes out on other apps and youtube is so annoying that i'm having a negative experience with even the word good ads create good customers bad annoying pushy ads is what makes people want to avoid your app or anything related as much as possible it also doesn't help that the ads are so that they put a fake x on the top corner that will force people to the app or the store which is extremely annoying and just\"]\n",
      "\n",
      "raw output: [[9.9999893e-01 9.8227167e-07 1.6791101e-07]]\n",
      "Review: Negative\n"
     ]
    }
   ],
   "source": [
    "test_text = \"App that is decent,but the amount of ads this single app dishes out on other apps and youtube is so annoying that I'm having a negative experience with even the word \\\"shein\\\".\\\"Good ads create good customers, Bad annoying pushy ads is what makes people want to avoid your app or anything related as much as possible. It also doesn't help that the ads are so scummy that they put a fake X on the top corner that will force people to the app or the store, which is extremely annoying and just suspicious.\"\n",
    "\n",
    "test_tokenized = tokenizer.texts_to_sequences([test_text])\n",
    "input = tf.keras.preprocessing.sequence.pad_sequences(test_tokenized, maxlen=max_len)\n",
    "\n",
    "output = model.predict(input)\n",
    "print(\"\\nraw output: \" + str(output))\n",
    "print(\"Review: \" + str(ordered_categories[np.argmax(output)]))"
   ]
  }
 ],
 "metadata": {
  "kernelspec": {
   "display_name": "tf_env_39",
   "language": "python",
   "name": "python3"
  },
  "language_info": {
   "codemirror_mode": {
    "name": "ipython",
    "version": 3
   },
   "file_extension": ".py",
   "mimetype": "text/x-python",
   "name": "python",
   "nbconvert_exporter": "python",
   "pygments_lexer": "ipython3",
   "version": "3.9.13"
  }
 },
 "nbformat": 4,
 "nbformat_minor": 2
}
